{
 "cells": [
  {
   "cell_type": "markdown",
   "metadata": {},
   "source": [
    "# 크롤러 튜토리얼\n",
    "\n",
    "이거 하나로 나도 크롤링 전문가!\n",
    "\n",
    "Copyright 2020-2021. `Ho Kim`. All rights reversed, For education only."
   ]
  },
  {
   "cell_type": "markdown",
   "metadata": {},
   "source": [
    "## POST 신호 보내보기\n",
    "\n",
    "HTTP 에서 웹 페이지에 접근하는 방법이 여러가지가 있습니다.\n",
    "* GET\n",
    "* POST\n",
    "* ...\n",
    "\n",
    "그중, 가장 자주 쓰이는 친구들은 GET과 POST의 2가지입니다.\n",
    "\n",
    "GET은 웹 링크(URL)에 변수들을 실어나를 수 있습니다. 길이 제한이 있고, 비밀번호 같은건 보안에 취약해 전송할 수 없습니다.\n",
    "\n",
    "POST는 웹 패킷에 변수들을 실어나를 수 있습니다. 암호화를 할 수 있어 GET보다 안전합니다."
   ]
  },
  {
   "cell_type": "code",
   "execution_count": 1,
   "metadata": {},
   "outputs": [],
   "source": [
    "# 시각화 라이브러리가 Jupyter Notebook에 그림을 그릴 수 있도록 합니다.\n",
    "%matplotlib inline\n",
    "\n",
    "# --------------------------------------\n",
    "#  아래 라이브러리는 수동으로 설치해야 합니다.\n",
    "# --------------------------------------\n",
    "\n",
    "# 웹 크롤러 라이브러리 로드하기\n",
    "import requests  # cURL 라이브러리\n",
    "\n",
    "# 데이터과학 라이브러리 로드하기\n",
    "import pandas as pd  # 데이터 가공 라이브러리\n",
    "import matplotlib.pyplot as plt  # 시각화 라이브러리\n",
    "import xlrd as _  # 엑셀 파일 파싱 라이브러리"
   ]
  },
  {
   "cell_type": "code",
   "execution_count": 2,
   "metadata": {},
   "outputs": [
    {
     "data": {
      "text/plain": [
       "'[접근 오류] 서비스에 접속할 수 없습니다.'"
      ]
     },
     "execution_count": 2,
     "metadata": {},
     "output_type": "execute_result"
    }
   ],
   "source": [
    "# GET 보내기\n",
    "url = 'https://datalab.naver.com/keyword/trendSearch.naver'\n",
    "\n",
    "r = requests.get(url)\n",
    "r.text.split('<title>')[1].split('</title>')[0]"
   ]
  },
  {
   "cell_type": "markdown",
   "metadata": {},
   "source": [
    "## 헤더 보안이 적용된 웹 페이지 뚫기\n",
    "\n",
    "정상적인 인터넷 브라우저로 위의 사이트를 들어가면 분명히 결과가 잘 나옵니다.\n",
    "차이가 무엇일까?\n",
    "\n",
    "인터넷 브라우저가 웹 사이트를 요구할 땐, `User-Agent`라는 특수한 헤더를 포함시킵니다.\n",
    "이 헤더에는 인터넷 브라우저, OS, 웹 엔진에 대한 정보가 들어있습니다.\n",
    "\n",
    "그렇다면, 이 헤더 정보를 같이 보낸다면 정보가 잘 나올 겁니다."
   ]
  },
  {
   "cell_type": "code",
   "execution_count": 3,
   "metadata": {},
   "outputs": [
    {
     "data": {
      "text/plain": [
       "'검색어트렌드 : 네이버 데이터랩'"
      ]
     },
     "execution_count": 3,
     "metadata": {},
     "output_type": "execute_result"
    }
   ],
   "source": [
    "# GET 보내기\n",
    "url = 'https://datalab.naver.com/keyword/trendSearch.naver'\n",
    "headers = {'User-Agent': 'Mozilla/5.0 (X11; Linux x86_64) AppleWebKit/537.36 (KHTML, like Gecko) Chrome/85.0.4183.121 Safari/537.36'}\n",
    "\n",
    "r = requests.get(url, headers=headers)\n",
    "r.text.split('<title>')[1].split('</title>')[0]"
   ]
  },
  {
   "cell_type": "markdown",
   "metadata": {},
   "source": [
    "## Naver 공략하기\n",
    "\n",
    "이전에 우리가 공략해야 할 URL `https://datalab.naver.com/qcHash.naver`를 얻었습니다.\n",
    "\n",
    "그리고, 이 사이트가 POST를 사용한다는 것을 알고 있습니다.\n",
    "\n",
    "이제, 이 사이트를 공략해야 할 시간입니다."
   ]
  },
  {
   "cell_type": "code",
   "execution_count": 4,
   "metadata": {},
   "outputs": [
    {
     "data": {
      "text/plain": [
       "'{\"code\":\"\",\"message\":\"\",\"hashKey\":\"N_9b0571b867dbc0b34698d0ffbbcf5e08\",\"success\":true}'"
      ]
     },
     "execution_count": 4,
     "metadata": {},
     "output_type": "execute_result"
    }
   ],
   "source": [
    "url = 'https://datalab.naver.com/qcHash.naver'\n",
    "\n",
    "r = requests.post(\n",
    "    url,\n",
    "    headers={\n",
    "        'User-Agent': 'Mozilla/5.0 (X11; Linux x86_64) AppleWebKit/537.36 (KHTML, like Gecko) Chrome/85.0.4183.121 Safari/537.36',\n",
    "        # 어느 사이트에서 이 경로를 요청하는가?\n",
    "        'referer': r'https://datalab.naver.com/keyword/trendSearch.naver',\n",
    "    },\n",
    "    params={\n",
    "        'queryGroups': '교촌치킨__SZLIG__교촌치킨__OUML__BHC__SZLIG__BHC',\n",
    "        'startDate': 20201106,\n",
    "        'endDate': 20211105,\n",
    "        'timeUnit': 'date',\n",
    "        'gender': '',\n",
    "        'age': '',\n",
    "        'device': '',\n",
    "    },\n",
    ")\n",
    "r.text"
   ]
  },
  {
   "cell_type": "code",
   "execution_count": 5,
   "metadata": {},
   "outputs": [
    {
     "data": {
      "text/plain": [
       "'N_9b0571b867dbc0b34698d0ffbbcf5e08'"
      ]
     },
     "execution_count": 5,
     "metadata": {},
     "output_type": "execute_result"
    }
   ],
   "source": [
    "# hashKey 가져오기\n",
    "hash_key = r.json()['hashKey']\n",
    "hash_key"
   ]
  },
  {
   "cell_type": "markdown",
   "metadata": {},
   "source": [
    "## 결과 파일 다운로드하기\n",
    "\n",
    "이전에 결과 파일을 다운로드하는 URL도 구했습니다.\n",
    "\n",
    "이제, 이 URL에 접속해서 결과 엑셀 파일을 다운로드할 시간입니다."
   ]
  },
  {
   "cell_type": "code",
   "execution_count": 6,
   "metadata": {
    "scrolled": true
   },
   "outputs": [
    {
     "name": "stderr",
     "output_type": "stream",
     "text": [
      "C:\\Users\\h\\.conda\\envs\\torch\\lib\\site-packages\\openpyxl\\styles\\stylesheet.py:226: UserWarning: Workbook contains no default style, apply openpyxl's default\n",
      "  warn(\"Workbook contains no default style, apply openpyxl's default\")\n"
     ]
    },
    {
     "data": {
      "text/html": [
       "<div>\n",
       "<style scoped>\n",
       "    .dataframe tbody tr th:only-of-type {\n",
       "        vertical-align: middle;\n",
       "    }\n",
       "\n",
       "    .dataframe tbody tr th {\n",
       "        vertical-align: top;\n",
       "    }\n",
       "\n",
       "    .dataframe thead th {\n",
       "        text-align: right;\n",
       "    }\n",
       "</style>\n",
       "<table border=\"1\" class=\"dataframe\">\n",
       "  <thead>\n",
       "    <tr style=\"text-align: right;\">\n",
       "      <th></th>\n",
       "      <th>url</th>\n",
       "      <th>http://datalab.naver.com/keyword/trendResult.naver?hashKey=N_9b0571b867dbc0b34698d0ffbbcf5e08</th>\n",
       "      <th>Unnamed: 2</th>\n",
       "      <th>Unnamed: 3</th>\n",
       "    </tr>\n",
       "  </thead>\n",
       "  <tbody>\n",
       "    <tr>\n",
       "      <th>0</th>\n",
       "      <td>주제</td>\n",
       "      <td>통검</td>\n",
       "      <td>NaN</td>\n",
       "      <td>NaN</td>\n",
       "    </tr>\n",
       "    <tr>\n",
       "      <th>1</th>\n",
       "      <td>범위</td>\n",
       "      <td>합계</td>\n",
       "      <td>NaN</td>\n",
       "      <td>NaN</td>\n",
       "    </tr>\n",
       "    <tr>\n",
       "      <th>2</th>\n",
       "      <td>기간</td>\n",
       "      <td>일간 : 2020-11-06 ~ 2021-11-04</td>\n",
       "      <td>NaN</td>\n",
       "      <td>NaN</td>\n",
       "    </tr>\n",
       "    <tr>\n",
       "      <th>3</th>\n",
       "      <td>성별</td>\n",
       "      <td>전체(여성,남성)</td>\n",
       "      <td>NaN</td>\n",
       "      <td>NaN</td>\n",
       "    </tr>\n",
       "    <tr>\n",
       "      <th>4</th>\n",
       "      <td>연령대</td>\n",
       "      <td>전체</td>\n",
       "      <td>NaN</td>\n",
       "      <td>NaN</td>\n",
       "    </tr>\n",
       "    <tr>\n",
       "      <th>...</th>\n",
       "      <td>...</td>\n",
       "      <td>...</td>\n",
       "      <td>...</td>\n",
       "      <td>...</td>\n",
       "    </tr>\n",
       "    <tr>\n",
       "      <th>365</th>\n",
       "      <td>2021-10-31</td>\n",
       "      <td>20.82001</td>\n",
       "      <td>2021-10-31</td>\n",
       "      <td>10.40625</td>\n",
       "    </tr>\n",
       "    <tr>\n",
       "      <th>366</th>\n",
       "      <td>2021-11-01</td>\n",
       "      <td>13.20246</td>\n",
       "      <td>2021-11-01</td>\n",
       "      <td>7.44474</td>\n",
       "    </tr>\n",
       "    <tr>\n",
       "      <th>367</th>\n",
       "      <td>2021-11-02</td>\n",
       "      <td>13.79326</td>\n",
       "      <td>2021-11-02</td>\n",
       "      <td>7.28697</td>\n",
       "    </tr>\n",
       "    <tr>\n",
       "      <th>368</th>\n",
       "      <td>2021-11-03</td>\n",
       "      <td>13.82127</td>\n",
       "      <td>2021-11-03</td>\n",
       "      <td>7.67491</td>\n",
       "    </tr>\n",
       "    <tr>\n",
       "      <th>369</th>\n",
       "      <td>2021-11-04</td>\n",
       "      <td>14.50086</td>\n",
       "      <td>2021-11-04</td>\n",
       "      <td>7.48299</td>\n",
       "    </tr>\n",
       "  </tbody>\n",
       "</table>\n",
       "<p>370 rows × 4 columns</p>\n",
       "</div>"
      ],
      "text/plain": [
       "            url  \\\n",
       "0            주제   \n",
       "1            범위   \n",
       "2            기간   \n",
       "3            성별   \n",
       "4           연령대   \n",
       "..          ...   \n",
       "365  2021-10-31   \n",
       "366  2021-11-01   \n",
       "367  2021-11-02   \n",
       "368  2021-11-03   \n",
       "369  2021-11-04   \n",
       "\n",
       "    http://datalab.naver.com/keyword/trendResult.naver?hashKey=N_9b0571b867dbc0b34698d0ffbbcf5e08  \\\n",
       "0                                                   통검                                              \n",
       "1                                                   합계                                              \n",
       "2                         일간 : 2020-11-06 ~ 2021-11-04                                              \n",
       "3                                            전체(여성,남성)                                              \n",
       "4                                                   전체                                              \n",
       "..                                                 ...                                              \n",
       "365                                           20.82001                                              \n",
       "366                                           13.20246                                              \n",
       "367                                           13.79326                                              \n",
       "368                                           13.82127                                              \n",
       "369                                           14.50086                                              \n",
       "\n",
       "     Unnamed: 2 Unnamed: 3  \n",
       "0           NaN        NaN  \n",
       "1           NaN        NaN  \n",
       "2           NaN        NaN  \n",
       "3           NaN        NaN  \n",
       "4           NaN        NaN  \n",
       "..          ...        ...  \n",
       "365  2021-10-31   10.40625  \n",
       "366  2021-11-01    7.44474  \n",
       "367  2021-11-02    7.28697  \n",
       "368  2021-11-03    7.67491  \n",
       "369  2021-11-04    7.48299  \n",
       "\n",
       "[370 rows x 4 columns]"
      ]
     },
     "execution_count": 6,
     "metadata": {},
     "output_type": "execute_result"
    }
   ],
   "source": [
    "url = 'https://datalab.naver.com/qcExcel.naver'\n",
    "\n",
    "# 결과 파일 다운로드하기\n",
    "r = requests.get(\n",
    "    url,\n",
    "    headers={\n",
    "        'User-Agent': 'Mozilla/5.0 (X11; Linux x86_64) AppleWebKit/537.36 (KHTML, like Gecko) Chrome/85.0.4183.121 Safari/537.36',\n",
    "    },\n",
    "    params={\n",
    "        'hashKey': hash_key,\n",
    "    },\n",
    ")\n",
    "\n",
    "# 엑셀 파일 파싱하기\n",
    "df = pd.read_excel(r.content)\n",
    "df"
   ]
  },
  {
   "cell_type": "markdown",
   "metadata": {},
   "source": [
    "## 데이터 가공하기\n",
    "\n",
    "와! 교촌치킨 vs BHC 트렌드 데이터를 가져왔습니다.\n",
    "\n",
    "그런데, 뭔가 이상합니다.\n",
    "데이터에 필요없는 행이 앞에 6개나 있습니다.\n",
    "\n",
    "이 필요없는 데이터 행을 제거하는 방법이 있습니다.\n",
    "바로, 특정 행부터 데이터가 있다고 파싱 함수에 알려주는 겁니다."
   ]
  },
  {
   "cell_type": "code",
   "execution_count": 7,
   "metadata": {},
   "outputs": [
    {
     "name": "stderr",
     "output_type": "stream",
     "text": [
      "C:\\Users\\h\\.conda\\envs\\torch\\lib\\site-packages\\openpyxl\\styles\\stylesheet.py:226: UserWarning: Workbook contains no default style, apply openpyxl's default\n",
      "  warn(\"Workbook contains no default style, apply openpyxl's default\")\n"
     ]
    },
    {
     "data": {
      "text/html": [
       "<div>\n",
       "<style scoped>\n",
       "    .dataframe tbody tr th:only-of-type {\n",
       "        vertical-align: middle;\n",
       "    }\n",
       "\n",
       "    .dataframe tbody tr th {\n",
       "        vertical-align: top;\n",
       "    }\n",
       "\n",
       "    .dataframe thead th {\n",
       "        text-align: right;\n",
       "    }\n",
       "</style>\n",
       "<table border=\"1\" class=\"dataframe\">\n",
       "  <thead>\n",
       "    <tr style=\"text-align: right;\">\n",
       "      <th></th>\n",
       "      <th>날짜</th>\n",
       "      <th>교촌치킨</th>\n",
       "      <th>날짜.1</th>\n",
       "      <th>BHC</th>\n",
       "    </tr>\n",
       "  </thead>\n",
       "  <tbody>\n",
       "    <tr>\n",
       "      <th>0</th>\n",
       "      <td>2020-11-06</td>\n",
       "      <td>29.52217</td>\n",
       "      <td>2020-11-06</td>\n",
       "      <td>10.89391</td>\n",
       "    </tr>\n",
       "    <tr>\n",
       "      <th>1</th>\n",
       "      <td>2020-11-07</td>\n",
       "      <td>28.93273</td>\n",
       "      <td>2020-11-07</td>\n",
       "      <td>11.67663</td>\n",
       "    </tr>\n",
       "    <tr>\n",
       "      <th>2</th>\n",
       "      <td>2020-11-08</td>\n",
       "      <td>27.95672</td>\n",
       "      <td>2020-11-08</td>\n",
       "      <td>10.97177</td>\n",
       "    </tr>\n",
       "    <tr>\n",
       "      <th>3</th>\n",
       "      <td>2020-11-09</td>\n",
       "      <td>19.26754</td>\n",
       "      <td>2020-11-09</td>\n",
       "      <td>7.84703</td>\n",
       "    </tr>\n",
       "    <tr>\n",
       "      <th>4</th>\n",
       "      <td>2020-11-10</td>\n",
       "      <td>20.12949</td>\n",
       "      <td>2020-11-10</td>\n",
       "      <td>8.61404</td>\n",
       "    </tr>\n",
       "    <tr>\n",
       "      <th>...</th>\n",
       "      <td>...</td>\n",
       "      <td>...</td>\n",
       "      <td>...</td>\n",
       "      <td>...</td>\n",
       "    </tr>\n",
       "    <tr>\n",
       "      <th>359</th>\n",
       "      <td>2021-10-31</td>\n",
       "      <td>20.82001</td>\n",
       "      <td>2021-10-31</td>\n",
       "      <td>10.40625</td>\n",
       "    </tr>\n",
       "    <tr>\n",
       "      <th>360</th>\n",
       "      <td>2021-11-01</td>\n",
       "      <td>13.20246</td>\n",
       "      <td>2021-11-01</td>\n",
       "      <td>7.44474</td>\n",
       "    </tr>\n",
       "    <tr>\n",
       "      <th>361</th>\n",
       "      <td>2021-11-02</td>\n",
       "      <td>13.79326</td>\n",
       "      <td>2021-11-02</td>\n",
       "      <td>7.28697</td>\n",
       "    </tr>\n",
       "    <tr>\n",
       "      <th>362</th>\n",
       "      <td>2021-11-03</td>\n",
       "      <td>13.82127</td>\n",
       "      <td>2021-11-03</td>\n",
       "      <td>7.67491</td>\n",
       "    </tr>\n",
       "    <tr>\n",
       "      <th>363</th>\n",
       "      <td>2021-11-04</td>\n",
       "      <td>14.50086</td>\n",
       "      <td>2021-11-04</td>\n",
       "      <td>7.48299</td>\n",
       "    </tr>\n",
       "  </tbody>\n",
       "</table>\n",
       "<p>364 rows × 4 columns</p>\n",
       "</div>"
      ],
      "text/plain": [
       "             날짜      교촌치킨        날짜.1       BHC\n",
       "0    2020-11-06  29.52217  2020-11-06  10.89391\n",
       "1    2020-11-07  28.93273  2020-11-07  11.67663\n",
       "2    2020-11-08  27.95672  2020-11-08  10.97177\n",
       "3    2020-11-09  19.26754  2020-11-09   7.84703\n",
       "4    2020-11-10  20.12949  2020-11-10   8.61404\n",
       "..          ...       ...         ...       ...\n",
       "359  2021-10-31  20.82001  2021-10-31  10.40625\n",
       "360  2021-11-01  13.20246  2021-11-01   7.44474\n",
       "361  2021-11-02  13.79326  2021-11-02   7.28697\n",
       "362  2021-11-03  13.82127  2021-11-03   7.67491\n",
       "363  2021-11-04  14.50086  2021-11-04   7.48299\n",
       "\n",
       "[364 rows x 4 columns]"
      ]
     },
     "execution_count": 7,
     "metadata": {},
     "output_type": "execute_result"
    }
   ],
   "source": [
    "# 엑셀 파일 파싱하기\n",
    "df = pd.read_excel(r.content, header=6)\n",
    "df"
   ]
  },
  {
   "cell_type": "markdown",
   "metadata": {},
   "source": [
    "성공입니다.\n",
    "그런데 날짜가 중복되는 것이 조금 거슬립니다.\n",
    "\n",
    "중복되는 날짜를 제거하는 방법이 있습니다.\n",
    "파이썬의 `del` 함수를 써서 아래처럼 필요없는 열을 제거할 수도 있습니다.\n",
    "\n",
    "```python\n",
    "del df['날짜.1']\n",
    "```\n",
    "\n",
    "그리고, `drop` 함수를 사용해서 아래처럼 여러 열을 제거할 수 있습니다."
   ]
  },
  {
   "cell_type": "code",
   "execution_count": 8,
   "metadata": {},
   "outputs": [
    {
     "name": "stderr",
     "output_type": "stream",
     "text": [
      "C:\\Users\\h\\AppData\\Local\\Temp/ipykernel_11448/1661388735.py:2: FutureWarning: In a future version of pandas all arguments of DataFrame.drop except for the argument 'labels' will be keyword-only\n",
      "  df = df.drop(df.columns[2::2], 1)\n"
     ]
    },
    {
     "data": {
      "text/html": [
       "<div>\n",
       "<style scoped>\n",
       "    .dataframe tbody tr th:only-of-type {\n",
       "        vertical-align: middle;\n",
       "    }\n",
       "\n",
       "    .dataframe tbody tr th {\n",
       "        vertical-align: top;\n",
       "    }\n",
       "\n",
       "    .dataframe thead th {\n",
       "        text-align: right;\n",
       "    }\n",
       "</style>\n",
       "<table border=\"1\" class=\"dataframe\">\n",
       "  <thead>\n",
       "    <tr style=\"text-align: right;\">\n",
       "      <th></th>\n",
       "      <th>날짜</th>\n",
       "      <th>교촌치킨</th>\n",
       "      <th>BHC</th>\n",
       "    </tr>\n",
       "  </thead>\n",
       "  <tbody>\n",
       "    <tr>\n",
       "      <th>0</th>\n",
       "      <td>2020-11-06</td>\n",
       "      <td>29.52217</td>\n",
       "      <td>10.89391</td>\n",
       "    </tr>\n",
       "    <tr>\n",
       "      <th>1</th>\n",
       "      <td>2020-11-07</td>\n",
       "      <td>28.93273</td>\n",
       "      <td>11.67663</td>\n",
       "    </tr>\n",
       "    <tr>\n",
       "      <th>2</th>\n",
       "      <td>2020-11-08</td>\n",
       "      <td>27.95672</td>\n",
       "      <td>10.97177</td>\n",
       "    </tr>\n",
       "    <tr>\n",
       "      <th>3</th>\n",
       "      <td>2020-11-09</td>\n",
       "      <td>19.26754</td>\n",
       "      <td>7.84703</td>\n",
       "    </tr>\n",
       "    <tr>\n",
       "      <th>4</th>\n",
       "      <td>2020-11-10</td>\n",
       "      <td>20.12949</td>\n",
       "      <td>8.61404</td>\n",
       "    </tr>\n",
       "    <tr>\n",
       "      <th>...</th>\n",
       "      <td>...</td>\n",
       "      <td>...</td>\n",
       "      <td>...</td>\n",
       "    </tr>\n",
       "    <tr>\n",
       "      <th>359</th>\n",
       "      <td>2021-10-31</td>\n",
       "      <td>20.82001</td>\n",
       "      <td>10.40625</td>\n",
       "    </tr>\n",
       "    <tr>\n",
       "      <th>360</th>\n",
       "      <td>2021-11-01</td>\n",
       "      <td>13.20246</td>\n",
       "      <td>7.44474</td>\n",
       "    </tr>\n",
       "    <tr>\n",
       "      <th>361</th>\n",
       "      <td>2021-11-02</td>\n",
       "      <td>13.79326</td>\n",
       "      <td>7.28697</td>\n",
       "    </tr>\n",
       "    <tr>\n",
       "      <th>362</th>\n",
       "      <td>2021-11-03</td>\n",
       "      <td>13.82127</td>\n",
       "      <td>7.67491</td>\n",
       "    </tr>\n",
       "    <tr>\n",
       "      <th>363</th>\n",
       "      <td>2021-11-04</td>\n",
       "      <td>14.50086</td>\n",
       "      <td>7.48299</td>\n",
       "    </tr>\n",
       "  </tbody>\n",
       "</table>\n",
       "<p>364 rows × 3 columns</p>\n",
       "</div>"
      ],
      "text/plain": [
       "             날짜      교촌치킨       BHC\n",
       "0    2020-11-06  29.52217  10.89391\n",
       "1    2020-11-07  28.93273  11.67663\n",
       "2    2020-11-08  27.95672  10.97177\n",
       "3    2020-11-09  19.26754   7.84703\n",
       "4    2020-11-10  20.12949   8.61404\n",
       "..          ...       ...       ...\n",
       "359  2021-10-31  20.82001  10.40625\n",
       "360  2021-11-01  13.20246   7.44474\n",
       "361  2021-11-02  13.79326   7.28697\n",
       "362  2021-11-03  13.82127   7.67491\n",
       "363  2021-11-04  14.50086   7.48299\n",
       "\n",
       "[364 rows x 3 columns]"
      ]
     },
     "execution_count": 8,
     "metadata": {},
     "output_type": "execute_result"
    }
   ],
   "source": [
    "# 중복되는 열 제거하기\n",
    "df = df.drop(df.columns[2::2], 1)\n",
    "df"
   ]
  },
  {
   "cell_type": "markdown",
   "metadata": {},
   "source": [
    "## API 만들기\n",
    "\n",
    "짜잔! 이제 모든 구현이 끝났습니다.\n",
    "이제 이 기능을 쉽게 사용할 수 있는 API 함수를 만들 시간입니다."
   ]
  },
  {
   "cell_type": "code",
   "execution_count": 9,
   "metadata": {},
   "outputs": [],
   "source": [
    "# API로 만들기\n",
    "def get_trend(*, query, start_date, end_date, gender='', age='', device=''):\n",
    "    url = 'https://datalab.naver.com/qcHash.naver'\n",
    "\n",
    "    # hashKey 요청하기\n",
    "    query = '__OUML__'.join('__SZLIG__'.join([k, k] + v) for k, v in query.items())\n",
    "    r = requests.post(\n",
    "        url,\n",
    "        headers={\n",
    "            'User-Agent': 'Mozilla/5.0 (X11; Linux x86_64) AppleWebKit/537.36 (KHTML, like Gecko) Chrome/85.0.4183.121 Safari/537.36',\n",
    "            # 어느 사이트에서 이 경로를 요청하는가?\n",
    "            'referer': r'https://datalab.naver.com/keyword/trendSearch.naver',\n",
    "        },\n",
    "        params={\n",
    "            'queryGroups': query,\n",
    "            'startDate': start_date,\n",
    "            'endDate': end_date,\n",
    "            'timeUnit': 'date',\n",
    "            'gender': gender,\n",
    "            'age': age,\n",
    "            'device': device,\n",
    "        },\n",
    "    )\n",
    "\n",
    "    # hashKey 가져오기\n",
    "    hash_key = r.json()['hashKey']\n",
    "\n",
    "    url = 'https://datalab.naver.com/qcExcel.naver'\n",
    "\n",
    "    # 결과 파일 다운로드하기\n",
    "    r = requests.get(\n",
    "        url,\n",
    "        headers={\n",
    "            'User-Agent': 'Mozilla/5.0 (X11; Linux x86_64) AppleWebKit/537.36 (KHTML, like Gecko) Chrome/85.0.4183.121 Safari/537.36',\n",
    "        },\n",
    "        params={\n",
    "            'hashKey': hash_key,\n",
    "        },\n",
    "    )\n",
    "\n",
    "    # 엑셀 파일 파싱하기\n",
    "    df = pd.read_excel(r.content, header=6, )\n",
    "\n",
    "    # 데이터 가공하기\n",
    "    df = df.drop(df.columns[2::2], 1)  # 날짜 열이 중복되니 없앱니다.\n",
    "    return df"
   ]
  },
  {
   "cell_type": "code",
   "execution_count": 10,
   "metadata": {},
   "outputs": [
    {
     "name": "stderr",
     "output_type": "stream",
     "text": [
      "C:\\Users\\h\\.conda\\envs\\torch\\lib\\site-packages\\openpyxl\\styles\\stylesheet.py:226: UserWarning: Workbook contains no default style, apply openpyxl's default\n",
      "  warn(\"Workbook contains no default style, apply openpyxl's default\")\n",
      "C:\\Users\\h\\AppData\\Local\\Temp/ipykernel_11448/1281988916.py:45: FutureWarning: In a future version of pandas all arguments of DataFrame.drop except for the argument 'labels' will be keyword-only\n",
      "  df = df.drop(df.columns[2::2], 1)  # 날짜 열이 중복되니 없앱니다.\n"
     ]
    },
    {
     "data": {
      "text/html": [
       "<div>\n",
       "<style scoped>\n",
       "    .dataframe tbody tr th:only-of-type {\n",
       "        vertical-align: middle;\n",
       "    }\n",
       "\n",
       "    .dataframe tbody tr th {\n",
       "        vertical-align: top;\n",
       "    }\n",
       "\n",
       "    .dataframe thead th {\n",
       "        text-align: right;\n",
       "    }\n",
       "</style>\n",
       "<table border=\"1\" class=\"dataframe\">\n",
       "  <thead>\n",
       "    <tr style=\"text-align: right;\">\n",
       "      <th></th>\n",
       "      <th>날짜</th>\n",
       "      <th>윤석열</th>\n",
       "      <th>홍준표</th>\n",
       "    </tr>\n",
       "  </thead>\n",
       "  <tbody>\n",
       "    <tr>\n",
       "      <th>0</th>\n",
       "      <td>2020-11-06</td>\n",
       "      <td>3.99628</td>\n",
       "      <td>1.13424</td>\n",
       "    </tr>\n",
       "    <tr>\n",
       "      <th>1</th>\n",
       "      <td>2020-11-07</td>\n",
       "      <td>3.03605</td>\n",
       "      <td>1.00475</td>\n",
       "    </tr>\n",
       "    <tr>\n",
       "      <th>2</th>\n",
       "      <td>2020-11-08</td>\n",
       "      <td>2.83561</td>\n",
       "      <td>1.07661</td>\n",
       "    </tr>\n",
       "    <tr>\n",
       "      <th>3</th>\n",
       "      <td>2020-11-09</td>\n",
       "      <td>4.79044</td>\n",
       "      <td>1.21331</td>\n",
       "    </tr>\n",
       "    <tr>\n",
       "      <th>4</th>\n",
       "      <td>2020-11-10</td>\n",
       "      <td>4.12282</td>\n",
       "      <td>0.92291</td>\n",
       "    </tr>\n",
       "    <tr>\n",
       "      <th>...</th>\n",
       "      <td>...</td>\n",
       "      <td>...</td>\n",
       "      <td>...</td>\n",
       "    </tr>\n",
       "    <tr>\n",
       "      <th>359</th>\n",
       "      <td>2021-10-31</td>\n",
       "      <td>11.44998</td>\n",
       "      <td>17.44469</td>\n",
       "    </tr>\n",
       "    <tr>\n",
       "      <th>360</th>\n",
       "      <td>2021-11-01</td>\n",
       "      <td>13.22876</td>\n",
       "      <td>18.06003</td>\n",
       "    </tr>\n",
       "    <tr>\n",
       "      <th>361</th>\n",
       "      <td>2021-11-02</td>\n",
       "      <td>12.74051</td>\n",
       "      <td>18.17825</td>\n",
       "    </tr>\n",
       "    <tr>\n",
       "      <th>362</th>\n",
       "      <td>2021-11-03</td>\n",
       "      <td>11.30922</td>\n",
       "      <td>16.05551</td>\n",
       "    </tr>\n",
       "    <tr>\n",
       "      <th>363</th>\n",
       "      <td>2021-11-04</td>\n",
       "      <td>14.95618</td>\n",
       "      <td>22.73797</td>\n",
       "    </tr>\n",
       "  </tbody>\n",
       "</table>\n",
       "<p>364 rows × 3 columns</p>\n",
       "</div>"
      ],
      "text/plain": [
       "             날짜       윤석열       홍준표\n",
       "0    2020-11-06   3.99628   1.13424\n",
       "1    2020-11-07   3.03605   1.00475\n",
       "2    2020-11-08   2.83561   1.07661\n",
       "3    2020-11-09   4.79044   1.21331\n",
       "4    2020-11-10   4.12282   0.92291\n",
       "..          ...       ...       ...\n",
       "359  2021-10-31  11.44998  17.44469\n",
       "360  2021-11-01  13.22876  18.06003\n",
       "361  2021-11-02  12.74051  18.17825\n",
       "362  2021-11-03  11.30922  16.05551\n",
       "363  2021-11-04  14.95618  22.73797\n",
       "\n",
       "[364 rows x 3 columns]"
      ]
     },
     "execution_count": 10,
     "metadata": {},
     "output_type": "execute_result"
    }
   ],
   "source": [
    "# API 호출하기\n",
    "get_trend(\n",
    "    query={\n",
    "        # \"주제어\": [\"검색어\", ...],\n",
    "        '윤석열': [],\n",
    "        '홍준표': [],\n",
    "    },\n",
    "    start_date=20201106,\n",
    "    end_date=20211105,\n",
    ")"
   ]
  },
  {
   "cell_type": "markdown",
   "metadata": {},
   "source": [
    "## 시각화\n",
    "\n",
    "데이터가 화면에 좌르륵 보이는 게 참 좋긴 한데,\n",
    "역시 데이터는 차트로 봐야 더 멋있는 법입니다."
   ]
  },
  {
   "cell_type": "code",
   "execution_count": 11,
   "metadata": {},
   "outputs": [],
   "source": [
    "# 한글 폰트 설정\n",
    "plt.rc('font', family='Malgun Gothic')\n",
    "\n",
    "# 시각화하기\n",
    "# df.plot(x='날짜', xlabel='', ylabel='검색량', rot=90);"
   ]
  },
  {
   "cell_type": "markdown",
   "metadata": {},
   "source": [
    "## 대세 분석하기\n",
    "\n",
    "교촌치킨 vs BHC 싸움 실화냐? 가슴이 웅장해진다..\n",
    "\n",
    "이제 마지막 단계, 어느 쪽이 대세인지 판단할 차롑니다.\n",
    "\n",
    "사실 이것만 가지고는 어디가 대세인지 단정지을 수가 없습니다.\n",
    "그래서 그냥, 검색량이 더 많은 날을 세서, 더 많은 쪽이 대세라고 하겠습니다."
   ]
  },
  {
   "cell_type": "code",
   "execution_count": 12,
   "metadata": {},
   "outputs": [
    {
     "data": {
      "text/plain": [
       "True"
      ]
     },
     "execution_count": 12,
     "metadata": {},
     "output_type": "execute_result"
    }
   ],
   "source": [
    "# 대세 판독하기\n",
    "keyword_1 = df[df.columns[1]]\n",
    "keyword_2 = df[df.columns[2]]\n",
    "is_keyword_1_more_famous = (keyword_1 > keyword_2).mean() >= 0.5\n",
    "is_keyword_1_more_famous  # True면, keyword_1 이 더 검색량이 많은 것이다."
   ]
  },
  {
   "cell_type": "markdown",
   "metadata": {},
   "source": [
    "## API 만들기 2\n",
    "\n",
    "이제 마지막으로, 키워드만 넣으면 어느 쪽이 대세인지 판단하는 함수를 만듭시다."
   ]
  },
  {
   "cell_type": "code",
   "execution_count": 13,
   "metadata": {},
   "outputs": [],
   "source": [
    "def which_is_famous(*names, start_date=20201106, end_date=20211105):\n",
    "    # 트렌드 정보 불러오기\n",
    "    df = get_trend(\n",
    "        query={n: [] for n in names},\n",
    "        start_date=start_date,\n",
    "        end_date=end_date,\n",
    "    )\n",
    "\n",
    "    # 대세 분석하기\n",
    "    keyword_1 = df[df.columns[1]]\n",
    "    keyword_2 = df[df.columns[2]]\n",
    "    is_keyword_1_more_famous = (keyword_1 > keyword_2).mean() >= 0.5\n",
    "\n",
    "    name = names[0] if is_keyword_1_more_famous else names[1]\n",
    "\n",
    "    # 대세 발표하기\n",
    "    return name"
   ]
  },
  {
   "cell_type": "code",
   "execution_count": 14,
   "metadata": {},
   "outputs": [
    {
     "name": "stderr",
     "output_type": "stream",
     "text": [
      "C:\\Users\\h\\.conda\\envs\\torch\\lib\\site-packages\\openpyxl\\styles\\stylesheet.py:226: UserWarning: Workbook contains no default style, apply openpyxl's default\n",
      "  warn(\"Workbook contains no default style, apply openpyxl's default\")\n",
      "C:\\Users\\h\\AppData\\Local\\Temp/ipykernel_11448/1281988916.py:45: FutureWarning: In a future version of pandas all arguments of DataFrame.drop except for the argument 'labels' will be keyword-only\n",
      "  df = df.drop(df.columns[2::2], 1)  # 날짜 열이 중복되니 없앱니다.\n"
     ]
    },
    {
     "data": {
      "text/plain": [
       "'교촌치킨'"
      ]
     },
     "execution_count": 14,
     "metadata": {},
     "output_type": "execute_result"
    }
   ],
   "source": [
    "# 교촌치킨 vs BHC, 그 승자는?\n",
    "which_is_famous('교촌치킨', 'BHC')"
   ]
  },
  {
   "cell_type": "code",
   "execution_count": null,
   "metadata": {},
   "outputs": [],
   "source": []
  }
 ],
 "metadata": {
  "interpreter": {
   "hash": "c5769a634673281e8d552b893f0d7b4d4643e41bb657b53c02f9ea02e9f1a875"
  },
  "kernelspec": {
   "display_name": "Python 3 (ipykernel)",
   "language": "python",
   "name": "python3"
  },
  "language_info": {
   "codemirror_mode": {
    "name": "ipython",
    "version": 3
   },
   "file_extension": ".py",
   "mimetype": "text/x-python",
   "name": "python",
   "nbconvert_exporter": "python",
   "pygments_lexer": "ipython3",
   "version": "3.9.7"
  }
 },
 "nbformat": 4,
 "nbformat_minor": 2
}
