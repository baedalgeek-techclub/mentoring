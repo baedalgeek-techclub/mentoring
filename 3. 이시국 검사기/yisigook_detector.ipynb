{
  "nbformat": 4,
  "nbformat_minor": 0,
  "metadata": {
    "colab": {
      "name": "Yolov5를 이용한 이시국 검사기 만들기.ipynb",
      "provenance": [],
      "collapsed_sections": [],
      "toc_visible": true
    },
    "kernelspec": {
      "name": "python3",
      "display_name": "Python 3"
    },
    "accelerator": "GPU"
  },
  "cells": [
    {
      "cell_type": "markdown",
      "metadata": {
        "id": "k5ushNzQq4Tk"
      },
      "source": [
        "# 이시국 검사기\n",
        "\n",
        "세상이 어쩌다 이지경이 됐을까?\n",
        "2020년에는 마스크 끼면서 집에서 유튜브 보다가 다 지나게 생겼습니다.\n",
        "\n",
        "화가 납니다.\n",
        "다들 마스크 좀 잘 끼고 손 잘 씻고 다녔으면,\n",
        "이 사단이 진작에 끝이 날 수 있었습니다.\n",
        "\n",
        "그런데 뭐, 사람 사는 세상이 다 그렇지 않나요.\n",
        "사람은 너무 약한 동물이고,\n",
        "누구는 까먹어서 혹은 누구는 고의적으로 마스크를 끼지 않는 경우도 많습니다.\n",
        "\n",
        "그런데 적어도, 제 주변에서는 이런 경우가 적었으면 좋겠습니다.\n",
        "그래서 만들었습니다.\n",
        "마스크를 착용하지 않은 사람들을 색출해내는,\n",
        "이시국 검사기!\n",
        "\n",
        "Copyright 2020. `Ho Kim`. All rights reversed, For education only."
      ]
    },
    {
      "cell_type": "markdown",
      "metadata": {
        "id": "Je63yf7Trhpw"
      },
      "source": [
        "## Setup\n",
        "\n",
        "이시국 검사기는 딥러닝으로 만들 겁니다.\n",
        "특히, 요즘에 성능이 잘나오는 [yolov5](https://github.com/ultralytics/yolov5)를 사용하겠습니다.\n",
        "\n",
        "이 튜토리얼 또한, 이 사람들이 만든 아래의 튜토리얼을 따라 만들었습니다.\n",
        "* https://github.com/ultralytics/yolov5/blob/master/tutorial.ipynb"
      ]
    },
    {
      "cell_type": "code",
      "metadata": {
        "id": "LJt9KG-kq4Ig",
        "outputId": "18a04ef5-842b-4da6-faeb-01330cd9f520",
        "colab": {
          "base_uri": "https://localhost:8080/",
          "height": 35
        }
      },
      "source": [
        "!git clone https://github.com/ultralytics/yolov5  # clone repo\n",
        "!pip install -qr yolov5/requirements.txt  # install dependencies (ignore errors)\n",
        "%cd yolov5\n",
        "\n",
        "import torch\n",
        "from IPython.display import Image, clear_output  # to display images\n",
        "from utils.google_utils import gdrive_download  # to download models/datasets\n",
        "\n",
        "clear_output()\n",
        "print('Setup complete. Using torch %s %s' % (torch.__version__, torch.cuda.get_device_properties(0) if torch.cuda.is_available() else 'CPU'))"
      ],
      "execution_count": null,
      "outputs": []
    },
    {
      "cell_type": "markdown",
      "metadata": {
        "id": "KiTWn7afsMTM"
      },
      "source": [
        "## GPU 자원 검사\n",
        "\n",
        "이시국 검사기는 성능 좋은 GPU를 사용해 학습하겠습니다.\n",
        "아래의 연산을 수행한다면, Google Colab에서 사용 가능한 GPU의 목록이 표시됩니다.\n",
        "\n",
        "만약, GPU가 제대로 표시되지 않다면,\n",
        "메뉴의 Runtime-Change runtime type 에서 GPU를 선택해 다시 실행해주세요."
      ]
    },
    {
      "cell_type": "code",
      "metadata": {
        "id": "LEC3VImDqqlN"
      },
      "source": [
        "!nvidia-smi"
      ],
      "execution_count": null,
      "outputs": []
    },
    {
      "cell_type": "markdown",
      "metadata": {
        "id": "S2K6B8Erslyj"
      },
      "source": [
        "## 객체인식 테스트\n",
        "\n",
        "일단, 딥러닝으로 객체인식을 하는 예시를 보여드리겠습니다."
      ]
    },
    {
      "cell_type": "code",
      "metadata": {
        "id": "-oaXb8rmr4Nz",
        "outputId": "fb0f5d83-73d6-43c5-ec39-c00b6b19ac18",
        "colab": {
          "base_uri": "https://localhost:8080/",
          "height": 591
        }
      },
      "source": [
        "!python detect.py --weights yolov5s.pt --img 416 --conf 0.4 --source inference/images/\n",
        "Image(filename='inference/output/zidane.jpg', width=600)"
      ],
      "execution_count": null,
      "outputs": []
    },
    {
      "cell_type": "markdown",
      "metadata": {
        "id": "115G3vU5s6j8"
      },
      "source": [
        "![성능 확실하구만](http://img.battlepage.com/upload/2020/0903/0320260191a07365fccc5aa6e25bfb0713171d98.png)"
      ]
    },
    {
      "cell_type": "markdown",
      "metadata": {
        "id": "CRkngyiQtK8N"
      },
      "source": [
        "## 데이터셋 가져오기\n",
        "\n",
        "마스크를 쓴 사람, 대충 쓴 사람, 쓰지 않은 사람의 사진 묶음이 담긴 데이터셋을 다운로드합니다.\n",
        "\n",
        "아래의 kaggle 사이트에서 다운로드 후, 필요한 기능을 추가하였습니다.\n",
        "* https://www.kaggle.com/andrewmvd/face-mask-detection\n",
        "\n",
        "이 데이터셋은 해당 프로젝트 외의 사용을 금합니다."
      ]
    },
    {
      "cell_type": "code",
      "metadata": {
        "id": "Kak45WOsufXm",
        "outputId": "434a9ed7-491b-4ec7-abba-88c3db3ed621",
        "colab": {
          "base_uri": "https://localhost:8080/",
          "height": 53
        }
      },
      "source": [
        "gdrive_download('1Ff6i4Ryz8xXYn5wKoSIP98-7QUZk79ZZ', 'masks.zip')"
      ],
      "execution_count": null,
      "outputs": []
    },
    {
      "cell_type": "markdown",
      "metadata": {
        "id": "cpeR3R1BvLl-"
      },
      "source": [
        "## 데이터셋 가공하기\n",
        "\n",
        "`Yolov5` 가 사용 가능한 데이터 형식에 맞춰줍니다."
      ]
    },
    {
      "cell_type": "code",
      "metadata": {
        "id": "hFebI9h2vYox"
      },
      "source": [
        "!mkdir masks\n",
        "!mv origin to_yolov5.py yolov5s_masks.yaml masks\n",
        "\n",
        "!cd masks; python to_yolov5.py"
      ],
      "execution_count": null,
      "outputs": []
    },
    {
      "cell_type": "markdown",
      "metadata": {
        "id": "y4v33-UWvROz"
      },
      "source": [
        "yolov5/masks 디렉토리에 데이터셋이 구성되었습니다."
      ]
    },
    {
      "cell_type": "markdown",
      "metadata": {
        "id": "_KGwME0dwSO7"
      },
      "source": [
        "## 모델 학습하기\n",
        "\n",
        "이제, `yolov5`에게 이시국 검사기를 학습시켜보겠습니다.\n",
        "꽤 오래 걸릴 겁니다.\n",
        "\n",
        "`Google Colab`은 12시간동안 무료 GPU를 제공하는 좋은 사이트입니다.\n",
        "12시간이 지나더라도, 다시 접속해서 다시 실행하면 그만입니다.\n",
        "\n",
        "다만, 90분동안 아무 행동이 없으면 세션이 종료됩니다.\n",
        "즉, 이 딥러닝 학습이 90분 이상일 때, 나도 모르게 학습이 되다 마는 겁니다.\n",
        "\n",
        "이 문제의 해결 방법이 아래의 사이트에 잘 나와있습니다.\n",
        "* https://somjang.tistory.com/entry/Google-Colab-%EC%9E%90%EC%A3%BC%EB%81%8A%EA%B8%B0%EB%8A%94-%EB%9F%B0%ED%83%80%EC%9E%84-%EB%B0%A9%EC%A7%80%ED%95%98%EA%B8%B0"
      ]
    },
    {
      "cell_type": "code",
      "metadata": {
        "id": "nkGGJQxbw_Tz",
        "outputId": "08a4f554-a019-4da7-db24-3540de62202c",
        "colab": {
          "base_uri": "https://localhost:8080/",
          "height": 1000
        }
      },
      "source": [
        "!python train.py --img 640 --weights '' --epochs 300 --batch 64 --data masks/data.yaml --cfg masks/yolov5s_masks.yaml"
      ],
      "execution_count": null,
      "outputs": []
    },
    {
      "cell_type": "markdown",
      "metadata": {
        "id": "Whyl_8JbyeBj"
      },
      "source": [
        "## 성능 평가하기\n",
        "\n",
        "이제, 학습한 이시국 검사기의 성능을 한번 보겠습니다~"
      ]
    },
    {
      "cell_type": "code",
      "metadata": {
        "id": "mmtVX_A0yiK5"
      },
      "source": [
        "!cp runs/exp0/weights/best.pt yolov5s_masks.pt \n",
        "!python detect.py --source masks/images/val/maksssksksss104.png --weights yolov5s_masks.pt"
      ],
      "execution_count": null,
      "outputs": []
    },
    {
      "cell_type": "markdown",
      "metadata": {
        "id": "zIDmecQcy3yU"
      },
      "source": [
        "![성능 확실하구만](http://img.battlepage.com/upload/2020/0903/0320260191a07365fccc5aa6e25bfb0713171d98.png)"
      ]
    },
    {
      "cell_type": "markdown",
      "metadata": {
        "id": "t_2v3XAKy9lU"
      },
      "source": [
        "## 모델 다운로드하기\n",
        "\n",
        "마지막으로, 학습한 이시국 검사기 가중치 뭉치를 다운로드하겠습니다."
      ]
    },
    {
      "cell_type": "code",
      "metadata": {
        "id": "9tIETkyuzLBD"
      },
      "source": [
        "from google.colab import files\n",
        "files.download('yolov5s_masks.pt') "
      ],
      "execution_count": null,
      "outputs": []
    }
  ]
}